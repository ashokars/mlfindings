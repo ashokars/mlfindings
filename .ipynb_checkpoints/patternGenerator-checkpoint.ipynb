{
 "cells": [
  {
   "cell_type": "code",
   "execution_count": 58,
   "id": "8b501736",
   "metadata": {},
   "outputs": [
    {
     "name": "stdout",
     "output_type": "stream",
     "text": [
      "    source       Date\n",
      "0     CPXD 2021-01-01\n",
      "1     CPXD 2021-01-04\n",
      "2     CPXD 2021-01-05\n",
      "3     CPXD 2021-01-06\n",
      "4     CPXD 2021-01-07\n",
      "..     ...        ...\n",
      "523   MTXD 2023-01-04\n",
      "524   MTXD 2023-01-05\n",
      "525   MTXD 2023-01-06\n",
      "526   MTXD 2023-01-09\n",
      "527   MTXD 2023-01-10\n",
      "\n",
      "[5808 rows x 2 columns]\n"
     ]
    },
    {
     "name": "stderr",
     "output_type": "stream",
     "text": [
      "/var/folders/kt/n2712fkx7t1bfqb5_99gvp300000gn/T/ipykernel_81677/2698764043.py:23: FutureWarning: The frame.append method is deprecated and will be removed from pandas in a future version. Use pandas.concat instead.\n",
      "  df = df.append(pd.DataFrame({'source': random_ids, 'Date': date_range}))\n",
      "/var/folders/kt/n2712fkx7t1bfqb5_99gvp300000gn/T/ipykernel_81677/2698764043.py:23: FutureWarning: The frame.append method is deprecated and will be removed from pandas in a future version. Use pandas.concat instead.\n",
      "  df = df.append(pd.DataFrame({'source': random_ids, 'Date': date_range}))\n",
      "/var/folders/kt/n2712fkx7t1bfqb5_99gvp300000gn/T/ipykernel_81677/2698764043.py:23: FutureWarning: The frame.append method is deprecated and will be removed from pandas in a future version. Use pandas.concat instead.\n",
      "  df = df.append(pd.DataFrame({'source': random_ids, 'Date': date_range}))\n",
      "/var/folders/kt/n2712fkx7t1bfqb5_99gvp300000gn/T/ipykernel_81677/2698764043.py:23: FutureWarning: The frame.append method is deprecated and will be removed from pandas in a future version. Use pandas.concat instead.\n",
      "  df = df.append(pd.DataFrame({'source': random_ids, 'Date': date_range}))\n",
      "/var/folders/kt/n2712fkx7t1bfqb5_99gvp300000gn/T/ipykernel_81677/2698764043.py:23: FutureWarning: The frame.append method is deprecated and will be removed from pandas in a future version. Use pandas.concat instead.\n",
      "  df = df.append(pd.DataFrame({'source': random_ids, 'Date': date_range}))\n",
      "/var/folders/kt/n2712fkx7t1bfqb5_99gvp300000gn/T/ipykernel_81677/2698764043.py:23: FutureWarning: The frame.append method is deprecated and will be removed from pandas in a future version. Use pandas.concat instead.\n",
      "  df = df.append(pd.DataFrame({'source': random_ids, 'Date': date_range}))\n",
      "/var/folders/kt/n2712fkx7t1bfqb5_99gvp300000gn/T/ipykernel_81677/2698764043.py:23: FutureWarning: The frame.append method is deprecated and will be removed from pandas in a future version. Use pandas.concat instead.\n",
      "  df = df.append(pd.DataFrame({'source': random_ids, 'Date': date_range}))\n",
      "/var/folders/kt/n2712fkx7t1bfqb5_99gvp300000gn/T/ipykernel_81677/2698764043.py:23: FutureWarning: The frame.append method is deprecated and will be removed from pandas in a future version. Use pandas.concat instead.\n",
      "  df = df.append(pd.DataFrame({'source': random_ids, 'Date': date_range}))\n",
      "/var/folders/kt/n2712fkx7t1bfqb5_99gvp300000gn/T/ipykernel_81677/2698764043.py:23: FutureWarning: The frame.append method is deprecated and will be removed from pandas in a future version. Use pandas.concat instead.\n",
      "  df = df.append(pd.DataFrame({'source': random_ids, 'Date': date_range}))\n",
      "/var/folders/kt/n2712fkx7t1bfqb5_99gvp300000gn/T/ipykernel_81677/2698764043.py:23: FutureWarning: The frame.append method is deprecated and will be removed from pandas in a future version. Use pandas.concat instead.\n",
      "  df = df.append(pd.DataFrame({'source': random_ids, 'Date': date_range}))\n",
      "/var/folders/kt/n2712fkx7t1bfqb5_99gvp300000gn/T/ipykernel_81677/2698764043.py:23: FutureWarning: The frame.append method is deprecated and will be removed from pandas in a future version. Use pandas.concat instead.\n",
      "  df = df.append(pd.DataFrame({'source': random_ids, 'Date': date_range}))\n"
     ]
    }
   ],
   "source": [
    "import pandas as pd\n",
    "import random\n",
    "from datetime import datetime, timedelta\n",
    "\n",
    "sourceSystem = ['CPXD','TPXD','MKXD', 'KKXD', 'NFXD', 'TLXD', 'MCXD', 'GLXD', 'NCXD', 'KNXD', 'MTXD']\n",
    "\n",
    "# Define the date range\n",
    "start_date = datetime(2021, 1, 1)\n",
    "end_date = datetime(2023, 1, 10)\n",
    "\n",
    "# Generate the date range with only weekdays\n",
    "date_range = []\n",
    "current_date = start_date\n",
    "\n",
    "while current_date <= end_date:\n",
    "    if current_date.weekday() < 5:  # Check if the day is a weekday (0 to 4 for Monday to Friday)\n",
    "        date_range.append(current_date)\n",
    "    current_date += timedelta(days=1)\n",
    "df = pd.DataFrame()\n",
    "# Generate random IDs\n",
    "for x in sourceSystem:\n",
    "    random_ids = [x] * len(date_range)\n",
    "    df = df.append(pd.DataFrame({'source': random_ids, 'Date': date_range}))\n",
    "\n",
    "# Display the DataFrame\n",
    "print(df)\n"
   ]
  },
  {
   "cell_type": "code",
   "execution_count": 54,
   "id": "264eafcf",
   "metadata": {},
   "outputs": [
    {
     "name": "stdout",
     "output_type": "stream",
     "text": [
      "<class 'pandas.core.frame.DataFrame'>\n",
      "Index: 0 entries\n",
      "Empty DataFrame\n"
     ]
    }
   ],
   "source": [
    "df.info()"
   ]
  },
  {
   "cell_type": "code",
   "execution_count": 59,
   "id": "271a2f3f",
   "metadata": {},
   "outputs": [
    {
     "name": "stdout",
     "output_type": "stream",
     "text": [
      "   source       Date\n",
      "0    ABCF 2021-01-01\n",
      "1    ABCF 2021-01-15\n",
      "2    ABCF 2021-01-29\n",
      "3    ABCF 2021-02-12\n",
      "4    ABCF 2021-02-26\n",
      "..    ...        ...\n",
      "48   XYZF 2022-11-04\n",
      "49   XYZF 2022-11-18\n",
      "50   XYZF 2022-12-02\n",
      "51   XYZF 2022-12-16\n",
      "52   XYZF 2022-12-30\n",
      "\n",
      "[424 rows x 2 columns]\n"
     ]
    },
    {
     "name": "stderr",
     "output_type": "stream",
     "text": [
      "/var/folders/kt/n2712fkx7t1bfqb5_99gvp300000gn/T/ipykernel_81677/1556158222.py:14: FutureWarning: The frame.append method is deprecated and will be removed from pandas in a future version. Use pandas.concat instead.\n",
      "  df2 = df2.append(pd.DataFrame({'source': random_ids, 'Date': date_range}))\n",
      "/var/folders/kt/n2712fkx7t1bfqb5_99gvp300000gn/T/ipykernel_81677/1556158222.py:14: FutureWarning: The frame.append method is deprecated and will be removed from pandas in a future version. Use pandas.concat instead.\n",
      "  df2 = df2.append(pd.DataFrame({'source': random_ids, 'Date': date_range}))\n",
      "/var/folders/kt/n2712fkx7t1bfqb5_99gvp300000gn/T/ipykernel_81677/1556158222.py:14: FutureWarning: The frame.append method is deprecated and will be removed from pandas in a future version. Use pandas.concat instead.\n",
      "  df2 = df2.append(pd.DataFrame({'source': random_ids, 'Date': date_range}))\n",
      "/var/folders/kt/n2712fkx7t1bfqb5_99gvp300000gn/T/ipykernel_81677/1556158222.py:14: FutureWarning: The frame.append method is deprecated and will be removed from pandas in a future version. Use pandas.concat instead.\n",
      "  df2 = df2.append(pd.DataFrame({'source': random_ids, 'Date': date_range}))\n",
      "/var/folders/kt/n2712fkx7t1bfqb5_99gvp300000gn/T/ipykernel_81677/1556158222.py:14: FutureWarning: The frame.append method is deprecated and will be removed from pandas in a future version. Use pandas.concat instead.\n",
      "  df2 = df2.append(pd.DataFrame({'source': random_ids, 'Date': date_range}))\n",
      "/var/folders/kt/n2712fkx7t1bfqb5_99gvp300000gn/T/ipykernel_81677/1556158222.py:14: FutureWarning: The frame.append method is deprecated and will be removed from pandas in a future version. Use pandas.concat instead.\n",
      "  df2 = df2.append(pd.DataFrame({'source': random_ids, 'Date': date_range}))\n",
      "/var/folders/kt/n2712fkx7t1bfqb5_99gvp300000gn/T/ipykernel_81677/1556158222.py:14: FutureWarning: The frame.append method is deprecated and will be removed from pandas in a future version. Use pandas.concat instead.\n",
      "  df2 = df2.append(pd.DataFrame({'source': random_ids, 'Date': date_range}))\n",
      "/var/folders/kt/n2712fkx7t1bfqb5_99gvp300000gn/T/ipykernel_81677/1556158222.py:14: FutureWarning: The frame.append method is deprecated and will be removed from pandas in a future version. Use pandas.concat instead.\n",
      "  df2 = df2.append(pd.DataFrame({'source': random_ids, 'Date': date_range}))\n"
     ]
    }
   ],
   "source": [
    "sourceSystem = ['ABCF','DEFF','GHIF', 'JKLF', 'MNOF', 'QRSTF', 'UVWF', 'XYZF']\n",
    "\n",
    "# Define the date range\n",
    "start_date = datetime(2021, 1, 1)\n",
    "end_date = datetime(2023, 1, 10)\n",
    "\n",
    "# Generate the date range with only weekdays\n",
    "date_range = fortnightly_dates = pd.date_range(start=start_date, end=end_date, freq='2W-FRI')\n",
    "\n",
    "df2 = pd.DataFrame()\n",
    "# Generate random IDs\n",
    "for x in sourceSystem:\n",
    "    random_ids = [x] * len(date_range)\n",
    "    df2 = df2.append(pd.DataFrame({'source': random_ids, 'Date': date_range}))\n",
    "\n",
    "# Display the DataFrame\n",
    "print(df2)"
   ]
  },
  {
   "cell_type": "code",
   "execution_count": 60,
   "id": "11b84625",
   "metadata": {},
   "outputs": [
    {
     "name": "stdout",
     "output_type": "stream",
     "text": [
      "   source       Date\n",
      "0    ABCM 2021-01-01\n",
      "1    ABCM 2021-02-01\n",
      "2    ABCM 2021-03-01\n",
      "3    ABCM 2021-04-01\n",
      "4    ABCM 2021-05-01\n",
      "..    ...        ...\n",
      "20   XYZM 2022-09-01\n",
      "21   XYZM 2022-10-01\n",
      "22   XYZM 2022-11-01\n",
      "23   XYZM 2022-12-01\n",
      "24   XYZM 2023-01-01\n",
      "\n",
      "[200 rows x 2 columns]\n"
     ]
    },
    {
     "name": "stderr",
     "output_type": "stream",
     "text": [
      "/var/folders/kt/n2712fkx7t1bfqb5_99gvp300000gn/T/ipykernel_81677/840701059.py:14: FutureWarning: The frame.append method is deprecated and will be removed from pandas in a future version. Use pandas.concat instead.\n",
      "  df3 = df3.append(pd.DataFrame({'source': random_ids, 'Date': date_range}))\n",
      "/var/folders/kt/n2712fkx7t1bfqb5_99gvp300000gn/T/ipykernel_81677/840701059.py:14: FutureWarning: The frame.append method is deprecated and will be removed from pandas in a future version. Use pandas.concat instead.\n",
      "  df3 = df3.append(pd.DataFrame({'source': random_ids, 'Date': date_range}))\n",
      "/var/folders/kt/n2712fkx7t1bfqb5_99gvp300000gn/T/ipykernel_81677/840701059.py:14: FutureWarning: The frame.append method is deprecated and will be removed from pandas in a future version. Use pandas.concat instead.\n",
      "  df3 = df3.append(pd.DataFrame({'source': random_ids, 'Date': date_range}))\n",
      "/var/folders/kt/n2712fkx7t1bfqb5_99gvp300000gn/T/ipykernel_81677/840701059.py:14: FutureWarning: The frame.append method is deprecated and will be removed from pandas in a future version. Use pandas.concat instead.\n",
      "  df3 = df3.append(pd.DataFrame({'source': random_ids, 'Date': date_range}))\n",
      "/var/folders/kt/n2712fkx7t1bfqb5_99gvp300000gn/T/ipykernel_81677/840701059.py:14: FutureWarning: The frame.append method is deprecated and will be removed from pandas in a future version. Use pandas.concat instead.\n",
      "  df3 = df3.append(pd.DataFrame({'source': random_ids, 'Date': date_range}))\n",
      "/var/folders/kt/n2712fkx7t1bfqb5_99gvp300000gn/T/ipykernel_81677/840701059.py:14: FutureWarning: The frame.append method is deprecated and will be removed from pandas in a future version. Use pandas.concat instead.\n",
      "  df3 = df3.append(pd.DataFrame({'source': random_ids, 'Date': date_range}))\n",
      "/var/folders/kt/n2712fkx7t1bfqb5_99gvp300000gn/T/ipykernel_81677/840701059.py:14: FutureWarning: The frame.append method is deprecated and will be removed from pandas in a future version. Use pandas.concat instead.\n",
      "  df3 = df3.append(pd.DataFrame({'source': random_ids, 'Date': date_range}))\n",
      "/var/folders/kt/n2712fkx7t1bfqb5_99gvp300000gn/T/ipykernel_81677/840701059.py:14: FutureWarning: The frame.append method is deprecated and will be removed from pandas in a future version. Use pandas.concat instead.\n",
      "  df3 = df3.append(pd.DataFrame({'source': random_ids, 'Date': date_range}))\n"
     ]
    }
   ],
   "source": [
    "sourceSystem = ['ABCM','DEFM','GHIM', 'JKLM', 'MNOM', 'QRSTM', 'UVWM', 'XYZM']\n",
    "\n",
    "# Define the date range\n",
    "start_date = datetime(2021, 1, 1)\n",
    "end_date = datetime(2023, 1, 10)\n",
    "\n",
    "# Generate the date range with only weekdays\n",
    "date_range = fortnightly_dates = pd.date_range(start=start_date, end=end_date, freq='MS')\n",
    "\n",
    "df3 = pd.DataFrame()\n",
    "# Generate random IDs\n",
    "for x in sourceSystem:\n",
    "    random_ids = [x] * len(date_range)\n",
    "    df3 = df3.append(pd.DataFrame({'source': random_ids, 'Date': date_range}))\n",
    "\n",
    "# Display the DataFrame\n",
    "print(df3)"
   ]
  },
  {
   "cell_type": "code",
   "execution_count": 61,
   "id": "18ce4a66",
   "metadata": {},
   "outputs": [
    {
     "name": "stdout",
     "output_type": "stream",
     "text": [
      "   source       Date\n",
      "0    ABCQ 2021-03-31\n",
      "1    ABCQ 2021-06-30\n",
      "2    ABCQ 2021-09-30\n",
      "3    ABCQ 2021-12-31\n",
      "4    ABCQ 2022-03-31\n",
      "..    ...        ...\n",
      "3    XYZQ 2021-12-31\n",
      "4    XYZQ 2022-03-31\n",
      "5    XYZQ 2022-06-30\n",
      "6    XYZQ 2022-09-30\n",
      "7    XYZQ 2022-12-31\n",
      "\n",
      "[64 rows x 2 columns]\n"
     ]
    },
    {
     "name": "stderr",
     "output_type": "stream",
     "text": [
      "/var/folders/kt/n2712fkx7t1bfqb5_99gvp300000gn/T/ipykernel_81677/1048530481.py:14: FutureWarning: The frame.append method is deprecated and will be removed from pandas in a future version. Use pandas.concat instead.\n",
      "  df4 = df4.append(pd.DataFrame({'source': random_ids, 'Date': date_range}))\n",
      "/var/folders/kt/n2712fkx7t1bfqb5_99gvp300000gn/T/ipykernel_81677/1048530481.py:14: FutureWarning: The frame.append method is deprecated and will be removed from pandas in a future version. Use pandas.concat instead.\n",
      "  df4 = df4.append(pd.DataFrame({'source': random_ids, 'Date': date_range}))\n",
      "/var/folders/kt/n2712fkx7t1bfqb5_99gvp300000gn/T/ipykernel_81677/1048530481.py:14: FutureWarning: The frame.append method is deprecated and will be removed from pandas in a future version. Use pandas.concat instead.\n",
      "  df4 = df4.append(pd.DataFrame({'source': random_ids, 'Date': date_range}))\n",
      "/var/folders/kt/n2712fkx7t1bfqb5_99gvp300000gn/T/ipykernel_81677/1048530481.py:14: FutureWarning: The frame.append method is deprecated and will be removed from pandas in a future version. Use pandas.concat instead.\n",
      "  df4 = df4.append(pd.DataFrame({'source': random_ids, 'Date': date_range}))\n",
      "/var/folders/kt/n2712fkx7t1bfqb5_99gvp300000gn/T/ipykernel_81677/1048530481.py:14: FutureWarning: The frame.append method is deprecated and will be removed from pandas in a future version. Use pandas.concat instead.\n",
      "  df4 = df4.append(pd.DataFrame({'source': random_ids, 'Date': date_range}))\n",
      "/var/folders/kt/n2712fkx7t1bfqb5_99gvp300000gn/T/ipykernel_81677/1048530481.py:14: FutureWarning: The frame.append method is deprecated and will be removed from pandas in a future version. Use pandas.concat instead.\n",
      "  df4 = df4.append(pd.DataFrame({'source': random_ids, 'Date': date_range}))\n",
      "/var/folders/kt/n2712fkx7t1bfqb5_99gvp300000gn/T/ipykernel_81677/1048530481.py:14: FutureWarning: The frame.append method is deprecated and will be removed from pandas in a future version. Use pandas.concat instead.\n",
      "  df4 = df4.append(pd.DataFrame({'source': random_ids, 'Date': date_range}))\n",
      "/var/folders/kt/n2712fkx7t1bfqb5_99gvp300000gn/T/ipykernel_81677/1048530481.py:14: FutureWarning: The frame.append method is deprecated and will be removed from pandas in a future version. Use pandas.concat instead.\n",
      "  df4 = df4.append(pd.DataFrame({'source': random_ids, 'Date': date_range}))\n"
     ]
    }
   ],
   "source": [
    "sourceSystem = ['ABCQ','DEFQ','GHIQ', 'JKLQ', 'MNOQ', 'QRSTQ', 'UVWQ', 'XYZQ']\n",
    "\n",
    "# Define the date range\n",
    "start_date = datetime(2021, 1, 1)\n",
    "end_date = datetime(2023, 1, 10)\n",
    "\n",
    "# Generate the date range with only weekdays\n",
    "date_range = fortnightly_dates = pd.date_range(start=start_date, end=end_date, freq='Q')\n",
    "\n",
    "df4 = pd.DataFrame()\n",
    "# Generate random IDs\n",
    "for x in sourceSystem:\n",
    "    random_ids = [x] * len(date_range)\n",
    "    df4 = df4.append(pd.DataFrame({'source': random_ids, 'Date': date_range}))\n",
    "\n",
    "# Display the DataFrame\n",
    "print(df4)"
   ]
  },
  {
   "cell_type": "code",
   "execution_count": 46,
   "id": "02a9d5a9",
   "metadata": {},
   "outputs": [],
   "source": [
    "rawDf = pd.concat([df, df2, df3, df4])"
   ]
  },
  {
   "cell_type": "code",
   "execution_count": 51,
   "id": "de833c54",
   "metadata": {},
   "outputs": [],
   "source": [
    "rawDf = rawDf.sort_values(by='Date')"
   ]
  },
  {
   "cell_type": "code",
   "execution_count": 63,
   "id": "53eb5e7f",
   "metadata": {},
   "outputs": [
    {
     "data": {
      "text/html": [
       "<div>\n",
       "<style scoped>\n",
       "    .dataframe tbody tr th:only-of-type {\n",
       "        vertical-align: middle;\n",
       "    }\n",
       "\n",
       "    .dataframe tbody tr th {\n",
       "        vertical-align: top;\n",
       "    }\n",
       "\n",
       "    .dataframe thead th {\n",
       "        text-align: right;\n",
       "    }\n",
       "</style>\n",
       "<table border=\"1\" class=\"dataframe\">\n",
       "  <thead>\n",
       "    <tr style=\"text-align: right;\">\n",
       "      <th></th>\n",
       "      <th>source</th>\n",
       "      <th>Date</th>\n",
       "    </tr>\n",
       "  </thead>\n",
       "  <tbody>\n",
       "    <tr>\n",
       "      <th>0</th>\n",
       "      <td>CPXD</td>\n",
       "      <td>2021-01-01</td>\n",
       "    </tr>\n",
       "    <tr>\n",
       "      <th>1</th>\n",
       "      <td>QRSTM</td>\n",
       "      <td>2021-01-01</td>\n",
       "    </tr>\n",
       "    <tr>\n",
       "      <th>2</th>\n",
       "      <td>MNOM</td>\n",
       "      <td>2021-01-01</td>\n",
       "    </tr>\n",
       "    <tr>\n",
       "      <th>3</th>\n",
       "      <td>JKLM</td>\n",
       "      <td>2021-01-01</td>\n",
       "    </tr>\n",
       "    <tr>\n",
       "      <th>4</th>\n",
       "      <td>GHIM</td>\n",
       "      <td>2021-01-01</td>\n",
       "    </tr>\n",
       "    <tr>\n",
       "      <th>...</th>\n",
       "      <td>...</td>\n",
       "      <td>...</td>\n",
       "    </tr>\n",
       "    <tr>\n",
       "      <th>6491</th>\n",
       "      <td>MKXD</td>\n",
       "      <td>2023-01-10</td>\n",
       "    </tr>\n",
       "    <tr>\n",
       "      <th>6492</th>\n",
       "      <td>MCXD</td>\n",
       "      <td>2023-01-10</td>\n",
       "    </tr>\n",
       "    <tr>\n",
       "      <th>6493</th>\n",
       "      <td>MTXD</td>\n",
       "      <td>2023-01-10</td>\n",
       "    </tr>\n",
       "    <tr>\n",
       "      <th>6494</th>\n",
       "      <td>TPXD</td>\n",
       "      <td>2023-01-10</td>\n",
       "    </tr>\n",
       "    <tr>\n",
       "      <th>6495</th>\n",
       "      <td>CPXD</td>\n",
       "      <td>2023-01-10</td>\n",
       "    </tr>\n",
       "  </tbody>\n",
       "</table>\n",
       "<p>6496 rows × 2 columns</p>\n",
       "</div>"
      ],
      "text/plain": [
       "     source       Date\n",
       "0      CPXD 2021-01-01\n",
       "1     QRSTM 2021-01-01\n",
       "2      MNOM 2021-01-01\n",
       "3      JKLM 2021-01-01\n",
       "4      GHIM 2021-01-01\n",
       "...     ...        ...\n",
       "6491   MKXD 2023-01-10\n",
       "6492   MCXD 2023-01-10\n",
       "6493   MTXD 2023-01-10\n",
       "6494   TPXD 2023-01-10\n",
       "6495   CPXD 2023-01-10\n",
       "\n",
       "[6496 rows x 2 columns]"
      ]
     },
     "execution_count": 63,
     "metadata": {},
     "output_type": "execute_result"
    }
   ],
   "source": [
    "rawDf.reset_index(drop=True)"
   ]
  },
  {
   "cell_type": "raw",
   "id": "26777601",
   "metadata": {},
   "source": []
  },
  {
   "cell_type": "code",
   "execution_count": 64,
   "id": "e21d81e2",
   "metadata": {},
   "outputs": [],
   "source": [
    "rawDf.to_csv('sample_data.csv', index=False)"
   ]
  },
  {
   "cell_type": "code",
   "execution_count": null,
   "id": "1534ebef",
   "metadata": {},
   "outputs": [],
   "source": []
  }
 ],
 "metadata": {
  "kernelspec": {
   "display_name": "Python 3 (ipykernel)",
   "language": "python",
   "name": "python3"
  },
  "language_info": {
   "codemirror_mode": {
    "name": "ipython",
    "version": 3
   },
   "file_extension": ".py",
   "mimetype": "text/x-python",
   "name": "python",
   "nbconvert_exporter": "python",
   "pygments_lexer": "ipython3",
   "version": "3.11.4"
  }
 },
 "nbformat": 4,
 "nbformat_minor": 5
}
